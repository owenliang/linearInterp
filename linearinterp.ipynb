{
 "cells": [
  {
   "cell_type": "code",
   "execution_count": 26,
   "id": "5b6420f1",
   "metadata": {},
   "outputs": [],
   "source": [
    "import torch"
   ]
  },
  {
   "cell_type": "markdown",
   "id": "01723f53",
   "metadata": {},
   "source": [
    "模拟x输入"
   ]
  },
  {
   "cell_type": "code",
   "execution_count": 27,
   "id": "49c79a90",
   "metadata": {},
   "outputs": [
    {
     "data": {
      "text/plain": [
       "torch.Size([2, 32, 10])"
      ]
     },
     "execution_count": 27,
     "metadata": {},
     "output_type": "execute_result"
    }
   ],
   "source": [
    "seq_size=10\n",
    "dim_size=32\n",
    "batch_size=2\n",
    "\n",
    "x=torch.arange(0,batch_size*seq_size*dim_size*2,step=2).view(batch_size,dim_size,seq_size).type(torch.float64).requires_grad_(True)\n",
    "x.shape"
   ]
  },
  {
   "cell_type": "code",
   "execution_count": 28,
   "id": "411c4afa",
   "metadata": {},
   "outputs": [],
   "source": [
    "target_seq_size=15"
   ]
  },
  {
   "cell_type": "markdown",
   "id": "72c7d715",
   "metadata": {},
   "source": [
    "Pytorch官方插值"
   ]
  },
  {
   "cell_type": "code",
   "execution_count": 29,
   "id": "cc3bc1e2",
   "metadata": {},
   "outputs": [
    {
     "name": "stdout",
     "output_type": "stream",
     "text": [
      "第0维特征:tensor([ 0.0000,  1.2857,  2.5714,  3.8571,  5.1429,  6.4286,  7.7143,  9.0000,\n",
      "        10.2857, 11.5714, 12.8571, 14.1429, 15.4286, 16.7143, 18.0000],\n",
      "       dtype=torch.float64, grad_fn=<SelectBackward0>)\n",
      "第1维特征:tensor([20.0000, 21.2857, 22.5714, 23.8571, 25.1429, 26.4286, 27.7143, 29.0000,\n",
      "        30.2857, 31.5714, 32.8571, 34.1429, 35.4286, 36.7143, 38.0000],\n",
      "       dtype=torch.float64, grad_fn=<SelectBackward0>)\n"
     ]
    }
   ],
   "source": [
    "y=torch.nn.functional.interpolate(x,size=target_seq_size,mode='linear',align_corners=True)\n",
    "print(f'第0维特征:{y[0][0]}\\n第1维特征:{y[0][1]}')"
   ]
  },
  {
   "cell_type": "markdown",
   "id": "6d1c7ce6",
   "metadata": {},
   "source": [
    "自实现插值"
   ]
  },
  {
   "cell_type": "code",
   "execution_count": 30,
   "id": "cb5865e5",
   "metadata": {},
   "outputs": [],
   "source": [
    "def linear_interp(x,target_seq_size):\n",
    "    i_new=torch.linspace(0,x.shape[2]-1,steps=target_seq_size)\n",
    "    print(f'i_new:{i_new}') # (target_seq_size,)\n",
    "    i_new_left=i_new.view(1,1,target_seq_size).expand(x.size(0),x.size(1),-1).floor().long()\n",
    "    print(f'i_new_left[0][0]:{i_new_left[0][0]}')\n",
    "    i_new_right=torch.clamp(i_new_left+1,0,x.size(2)-1)\n",
    "    print(f'i_new_right[0][0]:{i_new_right[0][0]}')\n",
    "\n",
    "    x_new_left=torch.gather(x,dim=2,index=i_new_left)\n",
    "    x_new_right=torch.gather(x,dim=2,index=i_new_right)\n",
    "    print(f'x_new_left[0][0]:{x_new_left[0][0]}\\nx_new_right[0][0]:{x_new_right[0][0]}')\n",
    "\n",
    "    i_new_weight=i_new.view(1,1,target_seq_size).expand(x.size(0),x.size(1),-1)-i_new_left\n",
    "    x_new=x_new_left+(x_new_right-x_new_left)*i_new_weight\n",
    "    return x_new"
   ]
  },
  {
   "cell_type": "code",
   "execution_count": 31,
   "id": "2068b1b7",
   "metadata": {},
   "outputs": [
    {
     "name": "stdout",
     "output_type": "stream",
     "text": [
      "i_new:tensor([0.0000, 0.6429, 1.2857, 1.9286, 2.5714, 3.2143, 3.8571, 4.5000, 5.1429,\n",
      "        5.7857, 6.4286, 7.0714, 7.7143, 8.3571, 9.0000])\n",
      "i_new_left[0][0]:tensor([0, 0, 1, 1, 2, 3, 3, 4, 5, 5, 6, 7, 7, 8, 9])\n",
      "i_new_right[0][0]:tensor([1, 1, 2, 2, 3, 4, 4, 5, 6, 6, 7, 8, 8, 9, 9])\n",
      "x_new_left[0][0]:tensor([ 0.,  0.,  2.,  2.,  4.,  6.,  6.,  8., 10., 10., 12., 14., 14., 16.,\n",
      "        18.], dtype=torch.float64, grad_fn=<SelectBackward0>)\n",
      "x_new_right[0][0]:tensor([ 2.,  2.,  4.,  4.,  6.,  8.,  8., 10., 12., 12., 14., 16., 16., 18.,\n",
      "        18.], dtype=torch.float64, grad_fn=<SelectBackward0>)\n",
      "【测试结论】\n",
      "第0维特征:tensor([ 0.0000,  1.2857,  2.5714,  3.8571,  5.1429,  6.4286,  7.7143,  9.0000,\n",
      "        10.2857, 11.5714, 12.8571, 14.1429, 15.4286, 16.7143, 18.0000],\n",
      "       dtype=torch.float64, grad_fn=<SelectBackward0>)\n",
      "第1维特征:tensor([20.0000, 21.2857, 22.5714, 23.8571, 25.1429, 26.4286, 27.7143, 29.0000,\n",
      "        30.2857, 31.5714, 32.8571, 34.1429, 35.4286, 36.7143, 38.0000],\n",
      "       dtype=torch.float64, grad_fn=<SelectBackward0>)\n",
      "与torch官方一致性:True\n"
     ]
    }
   ],
   "source": [
    "x_new=linear_interp(x,target_seq_size)\n",
    "x_new_torch=torch.nn.functional.interpolate(x,size=(target_seq_size,),mode='linear',align_corners=True)\n",
    "print(f'【测试结论】\\n第0维特征:{x_new[0][0]}\\n第1维特征:{x_new[0][1]}\\n与torch官方一致性:{torch.all(torch.abs(x_new-x_new_torch)<1e-5)}')"
   ]
  },
  {
   "cell_type": "code",
   "execution_count": 32,
   "id": "3014eebd",
   "metadata": {},
   "outputs": [
    {
     "data": {
      "text/plain": [
       "'linearinterp.png'"
      ]
     },
     "execution_count": 32,
     "metadata": {},
     "output_type": "execute_result"
    }
   ],
   "source": [
    "from torchviz import make_dot\n",
    "dot=make_dot(x_new,params={'x':x,'x_new':x_new})\n",
    "dot.render(\"linearinterp\",format=\"png\")"
   ]
  }
 ],
 "metadata": {
  "kernelspec": {
   "display_name": "linearinterp",
   "language": "python",
   "name": "python3"
  },
  "language_info": {
   "codemirror_mode": {
    "name": "ipython",
    "version": 3
   },
   "file_extension": ".py",
   "mimetype": "text/x-python",
   "name": "python",
   "nbconvert_exporter": "python",
   "pygments_lexer": "ipython3",
   "version": "3.10.18"
  }
 },
 "nbformat": 4,
 "nbformat_minor": 5
}
